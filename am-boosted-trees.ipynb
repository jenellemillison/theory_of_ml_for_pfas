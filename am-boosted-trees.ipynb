{
 "cells": [
  {
   "cell_type": "code",
   "execution_count": 1,
   "metadata": {},
   "outputs": [],
   "source": [
    "import pandas as pd\n",
    "import numpy as np\n",
    "import matplotlib.pyplot as plt\n",
    "%matplotlib inline\n",
    "import seaborn as sns\n",
    "try:\n",
    "    import xgboost as xgb\n",
    "    from xgboost import plot_importance\n",
    "except ImportError:\n",
    "    %pip install -q xgboost\n",
    "try:\n",
    "    from sklearn.metrics import accuracy_score, classification_report, confusion_matrix, mean_squared_error, r2_score\n",
    "    from sklearn.model_selection import train_test_split, learning_curve, GridSearchCV\n",
    "    from sklearn.preprocessing import StandardScaler\n",
    "    from sklearn.impute import SimpleImputer\n",
    "    from sklearn.mixture import GaussianMixture  # Using GMM for clustering\n",
    "    from sklearn.manifold import LocallyLinearEmbedding  # For dimensionality reduction\n",
    "    from sklearn.decomposition import PCA\n",
    "    from sklearn.linear_model import LinearRegression\n",
    "    from sklearn.feature_selection import SelectKBest, mutual_info_regression\n",
    "    from sklearn.dummy import DummyRegressor\n",
    "except ImportError:\n",
    "    %pip install sklearn\n",
    "try:\n",
    "    from collections import Counter\n",
    "except ImportError:\n",
    "    %pip install collections"
   ]
  },
  {
   "cell_type": "code",
   "execution_count": 2,
   "metadata": {},
   "outputs": [
    {
     "name": "stdout",
     "output_type": "stream",
     "text": [
      "PFAs Data:\n",
      "      NAWQA_ID       DATE  TIME 4_2 FTS-RMK  4_2 FTS-VA 6_2 FTS-RMK  \\\n",
      "0  MIAMSUS1-01  8/21/2019  1200           <         8.0           <   \n",
      "1  MIAMSUS1-02   7/1/2019  1100           <         7.7           <   \n",
      "2  MIAMSUS1-03   7/2/2019  1100           <         7.7           <   \n",
      "3  MIAMSUS1-04   7/9/2019  1100           <         8.0           <   \n",
      "4  MIAMSUS1-05  7/10/2019  1100           <         8.0           <   \n",
      "\n",
      "   6_2 FTS-VA 8_2 FTS-RMK  8_2 FTS-VA N-EtFOSAA-RMK  ...  PFPeS-RMK PFPeS-VA  \\\n",
      "0         8.0           <         8.0             <  ...          <      4.0   \n",
      "1         7.7           <         7.7             <  ...          <      3.8   \n",
      "2         7.7           <         7.7             <  ...          <      3.8   \n",
      "3         8.0           <         8.0             <  ...        NaN      7.8   \n",
      "4         8.0           <         8.0             <  ...          <      4.0   \n",
      "\n",
      "   PFPeA-RMK PFPeA-VA  PFTeDA-RMK PFTeDA-VA  PFTrDA-RMK PFTrDA-VA  PFUnA-RMK  \\\n",
      "0          n      1.7           <       4.0           <       4.0          <   \n",
      "1          <      3.8           <       3.8           <       3.8          <   \n",
      "2          <      3.8           <       3.8           <       3.8          <   \n",
      "3          <      4.0           <       4.0           <       4.0          <   \n",
      "4          <      4.0           <       4.0           <       4.0          <   \n",
      "\n",
      "  PFUnA-VA  \n",
      "0      4.0  \n",
      "1      3.8  \n",
      "2      3.8  \n",
      "3      4.0  \n",
      "4      4.0  \n",
      "\n",
      "[5 rows x 51 columns]\n"
     ]
    }
   ],
   "source": [
    "# first, re-create clusters. RF was run on top features predicting clusters\n",
    "# from Courtney\n",
    "\n",
    "# data import: ENV\n",
    "# assumes this script saved one folder up of /data\n",
    "pfa_data = pd.read_csv('./data/raw_data/PFAS_ENV.csv')\n",
    "\n",
    "# Display the first few rows of each dataset for exploration\n",
    "print(\"PFAs Data:\")\n",
    "print(pfa_data.head())\n",
    "\n",
    "# Convert 'DATE' column to datetime format\n",
    "pfa_data['DATE'] = pd.to_datetime(pfa_data['DATE'], format='%m/%d/%Y')\n",
    "\n",
    "#CLUSTERING MODEL (GMM with 8 Clusters from AIC/BIC)\n",
    "\n",
    "# Select numeric columns for clustering\n",
    "numeric_columns = pfa_data.select_dtypes(include=['float64', 'int64']).columns\n",
    "\n",
    "# Impute missing values with median\n",
    "imputer = SimpleImputer(strategy='median')\n",
    "pfa_data_imputed = imputer.fit_transform(pfa_data[numeric_columns])\n",
    "\n",
    "# Scale the data\n",
    "scaler = StandardScaler()\n",
    "pfa_scaled = scaler.fit_transform(pfa_data_imputed)\n",
    "\n",
    "# Apply Gaussian Mixture Model with the optimal number of clusters (8 clusters)\n",
    "gmm_final = GaussianMixture(n_components=8, random_state=42)\n",
    "pfa_data['Cluster'] = gmm_final.fit_predict(pfa_scaled)"
   ]
  },
  {
   "cell_type": "code",
   "execution_count": 3,
   "metadata": {},
   "outputs": [
    {
     "name": "stdout",
     "output_type": "stream",
     "text": [
      "[0 1 2 3 4 5 6 7]\n"
     ]
    }
   ],
   "source": [
    "print(np.sort(pfa_data.Cluster.unique()))"
   ]
  },
  {
   "cell_type": "code",
   "execution_count": 4,
   "metadata": {},
   "outputs": [],
   "source": [
    "key_pfas = ['PFOS-VA', 'PFBA-VA', 'PFHxS-VA', 'PFOA-VA']"
   ]
  },
  {
   "cell_type": "code",
   "execution_count": 5,
   "metadata": {},
   "outputs": [
    {
     "name": "stdout",
     "output_type": "stream",
     "text": [
      "Class distribution: Counter({1: 96, 2: 81, 6: 36, 4: 34, 0: 4, 7: 1, 5: 1, 3: 1})\n"
     ]
    }
   ],
   "source": [
    "# X, y declarations\n",
    "\n",
    "X = pfa_data[key_pfas]  # Using the top features as the predictors\n",
    "y = pfa_data['Cluster']  # Cluster labels as the target\n",
    "\n",
    "# Count instances of each class\n",
    "class_counts = Counter(y)\n",
    "print(\"Class distribution:\", class_counts)\n",
    "\n",
    "# DROP clusters 3, 5, 7 due to sparsity AND 0\n",
    "valid_classes = [cls for cls, count in class_counts.items() if count >= 5]\n",
    "\n",
    "# Filter out rows with invalid classes\n",
    "mask = np.isin(y, valid_classes)\n",
    "X, y = X[mask], y[mask]"
   ]
  },
  {
   "cell_type": "code",
   "execution_count": 6,
   "metadata": {},
   "outputs": [
    {
     "data": {
      "text/plain": [
       "Counter({1: 96, 2: 81, 4: 34, 6: 36})"
      ]
     },
     "execution_count": 6,
     "metadata": {},
     "output_type": "execute_result"
    }
   ],
   "source": [
    "Counter(y)"
   ]
  },
  {
   "cell_type": "code",
   "execution_count": 7,
   "metadata": {},
   "outputs": [],
   "source": [
    "# stratify y for equal class proportions\n",
    "X_train, X_test, y_train, y_test = train_test_split(X, y, test_size=0.3, random_state=42,stratify=y)"
   ]
  },
  {
   "cell_type": "code",
   "execution_count": 8,
   "metadata": {},
   "outputs": [
    {
     "name": "stdout",
     "output_type": "stream",
     "text": [
      "Counter({1: 67, 2: 56, 6: 25, 4: 24})\n",
      "Counter({1: 29, 2: 25, 6: 11, 4: 10})\n"
     ]
    }
   ],
   "source": [
    "print(Counter(y_train))\n",
    "print(Counter(y_test))"
   ]
  },
  {
   "cell_type": "code",
   "execution_count": 9,
   "metadata": {},
   "outputs": [
    {
     "data": {
      "text/plain": [
       "array([0, 0, 1, 0, 0, 0, 1, 1, 1, 1, 0, 0, 2, 1, 1, 0, 0, 0, 3, 1, 2, 0,\n",
       "       0, 1, 0, 1, 1, 0, 2, 3, 1, 1, 1, 2, 0, 0, 0, 2, 0, 1, 0, 2, 0, 1,\n",
       "       0, 2, 1, 1, 2, 1, 0, 3, 1, 0, 3, 1, 0, 1, 0, 3, 3, 2, 1, 3, 0, 0,\n",
       "       1, 2, 1, 2, 0, 1, 0, 0, 1, 1, 0, 0, 3, 0, 1, 0, 3, 0, 0, 1, 0, 2,\n",
       "       0, 1, 0, 0, 0, 1, 0, 1, 1, 0, 0, 1, 1, 2, 1, 1, 0, 1, 2, 0, 1, 0,\n",
       "       0, 2, 0, 1, 1, 0, 1, 2, 3, 0, 0, 3, 0, 2, 0, 2, 0, 0, 0, 1, 3, 3,\n",
       "       1, 3, 1, 3, 3, 1, 3, 3, 1, 1, 1, 0, 2, 3, 2, 3, 0, 0, 2, 0, 3, 0,\n",
       "       1, 0, 1, 1, 2, 0, 1, 0, 3, 3, 0, 2, 1, 1, 0, 2, 3, 3])"
      ]
     },
     "execution_count": 9,
     "metadata": {},
     "output_type": "execute_result"
    }
   ],
   "source": [
    "# Re-index the class labels to ensure they start from 0\n",
    "# Create a mapping of old labels to new ones starting from 0\n",
    "class_mapping = {label: idx for idx, label in enumerate(np.unique(y_train))}\n",
    "y_train = np.array([class_mapping[label] for label in y_train])\n",
    "y_test = np.array([class_mapping[label] for label in y_test])\n",
    "y_train"
   ]
  },
  {
   "cell_type": "markdown",
   "metadata": {},
   "source": [
    "## Experiment 1: Predict cluster based off key_pfas levels\n",
    "This was already done as a baseline using Random Forest. This experiment aims to improve upon this technique by using boosted regression trees. The logic is that the sequential learning nature of this approach could improve accuracy."
   ]
  },
  {
   "cell_type": "code",
   "execution_count": 10,
   "metadata": {},
   "outputs": [
    {
     "name": "stdout",
     "output_type": "stream",
     "text": [
      "Accuracy: 0.79\n",
      "Classification Report:\n",
      "              precision    recall  f1-score   support\n",
      "\n",
      "           0       0.86      0.86      0.86        29\n",
      "           1       0.79      0.88      0.83        25\n",
      "           2       0.50      0.50      0.50        10\n",
      "           3       0.88      0.64      0.74        11\n",
      "\n",
      "    accuracy                           0.79        75\n",
      "   macro avg       0.76      0.72      0.73        75\n",
      "weighted avg       0.79      0.79      0.78        75\n",
      "\n"
     ]
    }
   ],
   "source": [
    "# init XBGClassifier\n",
    "# optimization: softmax\n",
    "# eval: min log loss\n",
    "\n",
    "xgb_model = xgb.XGBClassifier(objective=\"multi:softmax\", eval_metric=\"mlogloss\", use_label_encoder=False)\n",
    "xgb_model.fit(X_train, y_train)\n",
    "y_pred = xgb_model.predict(X_test)\n",
    "\n",
    "accuracy = accuracy_score(y_test, y_pred)\n",
    "print(f\"Accuracy: {accuracy:.2f}\")\n",
    "print(\"Classification Report:\")\n",
    "print(classification_report(y_test, y_pred))"
   ]
  },
  {
   "cell_type": "code",
   "execution_count": 12,
   "metadata": {},
   "outputs": [
    {
     "name": "stdout",
     "output_type": "stream",
     "text": [
      "Fitting 3 folds for each of 216 candidates, totalling 648 fits\n",
      "Best Parameters: {'colsample_bytree': 0.8, 'gamma': 5, 'learning_rate': 0.01, 'max_depth': 3, 'n_estimators': 200, 'subsample': 0.8}\n",
      "Best Accuracy: 0.8662028634805404\n"
     ]
    }
   ],
   "source": [
    "# GRID SEARCH for hyperparameter tuning\n",
    "xgb_clf = xgb.XGBClassifier(objective=\"multi:softmax\", eval_metric=\"mlogloss\", use_label_encoder=False)\n",
    "\n",
    "# Define the parameter grid\n",
    "param_grid = {\n",
    "    'max_depth': [3, 5], # 7\n",
    "    'learning_rate': [0.01, 0.1, 0.2],\n",
    "    'n_estimators': [100, 200, 300],\n",
    "    'gamma': [0, 1, 5],\n",
    "    'subsample': [0.8, 1.0],\n",
    "    'colsample_bytree': [0.8, 1.0]\n",
    "}\n",
    "\n",
    "grid_search = GridSearchCV(\n",
    "    estimator=xgb_clf,\n",
    "    param_grid=param_grid,\n",
    "    scoring='accuracy',\n",
    "    cv=3,  # 3-fold cross-validation, limited due to memory constraints\n",
    "    verbose=2,\n",
    "    n_jobs=-1  # Use all available cores\n",
    ")\n",
    "\n",
    "grid_search.fit(X_train, y_train)\n",
    "\n",
    "# Best parameters and best score\n",
    "print(\"Best Parameters:\", grid_search.best_params_)\n",
    "print(\"Best Accuracy:\", grid_search.best_score_)"
   ]
  },
  {
   "cell_type": "markdown",
   "metadata": {},
   "source": [
    "It appears that the optimal boosted tree setup includes:\n",
    "- depth = 3 (max depth of a tree)\n",
    "- learning_rate = 0.01 (step size, prevent overfitting)\n",
    "- n_estimators = 200 \n",
    "- gamma = 5 (min loss reduction for a split)\n",
    "- subsample = 0.8 (fraction of samples for growing trees)\n",
    "- colsample_bytree = 0.8 (fraction of features per tree)\n",
    "\n",
    "Achieving 86.62% accuracy in train"
   ]
  },
  {
   "cell_type": "code",
   "execution_count": 13,
   "metadata": {},
   "outputs": [
    {
     "name": "stdout",
     "output_type": "stream",
     "text": [
      "Test Accuracy: 0.7733333333333333\n",
      "Classification Report:\n",
      "               precision    recall  f1-score   support\n",
      "\n",
      "           0       0.92      0.83      0.87        29\n",
      "           1       0.75      0.84      0.79        25\n",
      "           2       0.50      0.70      0.58        10\n",
      "           3       0.86      0.55      0.67        11\n",
      "\n",
      "    accuracy                           0.77        75\n",
      "   macro avg       0.76      0.73      0.73        75\n",
      "weighted avg       0.80      0.77      0.78        75\n",
      "\n",
      "Confusion Matrix:\n",
      " [[24  1  3  1]\n",
      " [ 1 21  3  0]\n",
      " [ 0  3  7  0]\n",
      " [ 1  3  1  6]]\n"
     ]
    },
    {
     "data": {
      "image/png": "[encoded data removed]",
      "text/plain": [
       "<Figure size 432x288 with 1 Axes>"
      ]
     },
     "metadata": {
      "needs_background": "light"
     },
     "output_type": "display_data"
    },
    {
     "data": {
      "image/png": "[encoded data removed]",
      "text/plain": [
       "<Figure size 576x432 with 2 Axes>"
      ]
     },
     "metadata": {
      "needs_background": "light"
     },
     "output_type": "display_data"
    }
   ],
   "source": [
    "best_model = grid_search.best_estimator_\n",
    "y_pred = grid_search.best_estimator_.predict(X_test)\n",
    "test_accuracy = accuracy_score(y_test, y_pred)\n",
    "print(\"Test Accuracy:\", test_accuracy)\n",
    "print(\"Classification Report:\\n\", classification_report(y_test, y_pred))\n",
    "\n",
    "conf_matrix = confusion_matrix(y_test, y_pred)\n",
    "print(\"Confusion Matrix:\\n\", conf_matrix)\n",
    "\n",
    "train_sizes, train_scores, val_scores = learning_curve(\n",
    "    grid_search.best_estimator_, X_train, y_train,\n",
    "    scoring=\"accuracy\", cv=3, n_jobs=-1\n",
    ")\n",
    "\n",
    "train_accuracy = train_scores.mean(axis=1)\n",
    "val_accuracy = val_scores.mean(axis=1)\n",
    "\n",
    "plt.plot(train_sizes, train_accuracy, label='Training Accuracy')\n",
    "plt.plot(train_sizes, val_accuracy, label='Validation Accuracy')\n",
    "plt.xlabel(\"Training Set Size\")\n",
    "plt.ylabel(\"Accuracy\")\n",
    "plt.legend()\n",
    "plt.title(\"Learning Curve\")\n",
    "plt.show()\n",
    "\n",
    "\n",
    "plt.figure(figsize=(8, 6))\n",
    "sns.heatmap(conf_matrix, annot=True, fmt='d', cmap='Blues', xticklabels=np.unique(y_test), yticklabels=np.unique(y_test))\n",
    "plt.xlabel(\"Predicted Labels\")\n",
    "plt.ylabel(\"True Labels\")\n",
    "plt.title(\"Confusion Matrix\")\n",
    "plt.show()"
   ]
  },
  {
   "cell_type": "markdown",
   "metadata": {},
   "source": [
    "### Analysis\n",
    "- Test and train learning curves appear to converge, indicating not much overfitting during training\n",
    "- Train acc: 86%; test: 77%\n",
    "- f-1 score also 0.77, indicating not much class imbalance\n",
    "- pretty good precision/recall\n",
    "- improvement upon random forest"
   ]
  },
  {
   "cell_type": "markdown",
   "metadata": {},
   "source": [
    "## Experiment 2: Predict amounts of key_pfas based off env/pharma/geo data"
   ]
  },
  {
   "cell_type": "markdown",
   "metadata": {},
   "source": [
    "This experiment aims to predict concentrations of key PFAS by regressing on the presence or amounts of external features, such as pharmaceutical compunds, geographical features, and other environmental features.\n",
    "\n",
    "\n",
    "TODO:\n",
    "- figure out best way to choose features for selection. Maybe running a broad linear regression and evaluating feature importance?\n",
    "- once features whittled down, join data and extrac X (features) and y (target concentration)\n",
    "- run train/test split on joined data\n",
    "- run xgboost baseline + grid search\n",
    "- plot/summarize results"
   ]
  },
  {
   "cell_type": "code",
   "execution_count": 14,
   "metadata": {},
   "outputs": [
    {
     "data": {
      "text/html": [
       "<div>\n",
       "<style scoped>\n",
       "    .dataframe tbody tr th:only-of-type {\n",
       "        vertical-align: middle;\n",
       "    }\n",
       "\n",
       "    .dataframe tbody tr th {\n",
       "        vertical-align: top;\n",
       "    }\n",
       "\n",
       "    .dataframe thead th {\n",
       "        text-align: right;\n",
       "    }\n",
       "</style>\n",
       "<table border=\"1\" class=\"dataframe\">\n",
       "  <thead>\n",
       "    <tr style=\"text-align: right;\">\n",
       "      <th></th>\n",
       "      <th>NAWQA_ID</th>\n",
       "      <th>DATE</th>\n",
       "      <th>TIME</th>\n",
       "      <th>4_2 FTS-RMK</th>\n",
       "      <th>4_2 FTS-VA</th>\n",
       "      <th>6_2 FTS-RMK</th>\n",
       "      <th>6_2 FTS-VA</th>\n",
       "      <th>8_2 FTS-RMK</th>\n",
       "      <th>8_2 FTS-VA</th>\n",
       "      <th>N-EtFOSAA-RMK</th>\n",
       "      <th>...</th>\n",
       "      <th>PFPeS-VA</th>\n",
       "      <th>PFPeA-RMK</th>\n",
       "      <th>PFPeA-VA</th>\n",
       "      <th>PFTeDA-RMK</th>\n",
       "      <th>PFTeDA-VA</th>\n",
       "      <th>PFTrDA-RMK</th>\n",
       "      <th>PFTrDA-VA</th>\n",
       "      <th>PFUnA-RMK</th>\n",
       "      <th>PFUnA-VA</th>\n",
       "      <th>Cluster</th>\n",
       "    </tr>\n",
       "  </thead>\n",
       "  <tbody>\n",
       "    <tr>\n",
       "      <td>0</td>\n",
       "      <td>MIAMSUS1-01</td>\n",
       "      <td>2019-08-21</td>\n",
       "      <td>1200</td>\n",
       "      <td>&lt;</td>\n",
       "      <td>8.0</td>\n",
       "      <td>&lt;</td>\n",
       "      <td>8.0</td>\n",
       "      <td>&lt;</td>\n",
       "      <td>8.0</td>\n",
       "      <td>&lt;</td>\n",
       "      <td>...</td>\n",
       "      <td>4.0</td>\n",
       "      <td>n</td>\n",
       "      <td>1.7</td>\n",
       "      <td>&lt;</td>\n",
       "      <td>4.0</td>\n",
       "      <td>&lt;</td>\n",
       "      <td>4.0</td>\n",
       "      <td>&lt;</td>\n",
       "      <td>4.0</td>\n",
       "      <td>1</td>\n",
       "    </tr>\n",
       "    <tr>\n",
       "      <td>1</td>\n",
       "      <td>MIAMSUS1-02</td>\n",
       "      <td>2019-07-01</td>\n",
       "      <td>1100</td>\n",
       "      <td>&lt;</td>\n",
       "      <td>7.7</td>\n",
       "      <td>&lt;</td>\n",
       "      <td>7.7</td>\n",
       "      <td>&lt;</td>\n",
       "      <td>7.7</td>\n",
       "      <td>&lt;</td>\n",
       "      <td>...</td>\n",
       "      <td>3.8</td>\n",
       "      <td>&lt;</td>\n",
       "      <td>3.8</td>\n",
       "      <td>&lt;</td>\n",
       "      <td>3.8</td>\n",
       "      <td>&lt;</td>\n",
       "      <td>3.8</td>\n",
       "      <td>&lt;</td>\n",
       "      <td>3.8</td>\n",
       "      <td>2</td>\n",
       "    </tr>\n",
       "    <tr>\n",
       "      <td>2</td>\n",
       "      <td>MIAMSUS1-03</td>\n",
       "      <td>2019-07-02</td>\n",
       "      <td>1100</td>\n",
       "      <td>&lt;</td>\n",
       "      <td>7.7</td>\n",
       "      <td>&lt;</td>\n",
       "      <td>7.7</td>\n",
       "      <td>&lt;</td>\n",
       "      <td>7.7</td>\n",
       "      <td>&lt;</td>\n",
       "      <td>...</td>\n",
       "      <td>3.8</td>\n",
       "      <td>&lt;</td>\n",
       "      <td>3.8</td>\n",
       "      <td>&lt;</td>\n",
       "      <td>3.8</td>\n",
       "      <td>&lt;</td>\n",
       "      <td>3.8</td>\n",
       "      <td>&lt;</td>\n",
       "      <td>3.8</td>\n",
       "      <td>2</td>\n",
       "    </tr>\n",
       "    <tr>\n",
       "      <td>3</td>\n",
       "      <td>MIAMSUS1-04</td>\n",
       "      <td>2019-07-09</td>\n",
       "      <td>1100</td>\n",
       "      <td>&lt;</td>\n",
       "      <td>8.0</td>\n",
       "      <td>&lt;</td>\n",
       "      <td>8.0</td>\n",
       "      <td>&lt;</td>\n",
       "      <td>8.0</td>\n",
       "      <td>&lt;</td>\n",
       "      <td>...</td>\n",
       "      <td>7.8</td>\n",
       "      <td>&lt;</td>\n",
       "      <td>4.0</td>\n",
       "      <td>&lt;</td>\n",
       "      <td>4.0</td>\n",
       "      <td>&lt;</td>\n",
       "      <td>4.0</td>\n",
       "      <td>&lt;</td>\n",
       "      <td>4.0</td>\n",
       "      <td>4</td>\n",
       "    </tr>\n",
       "    <tr>\n",
       "      <td>4</td>\n",
       "      <td>MIAMSUS1-05</td>\n",
       "      <td>2019-07-10</td>\n",
       "      <td>1100</td>\n",
       "      <td>&lt;</td>\n",
       "      <td>8.0</td>\n",
       "      <td>&lt;</td>\n",
       "      <td>8.0</td>\n",
       "      <td>&lt;</td>\n",
       "      <td>8.0</td>\n",
       "      <td>&lt;</td>\n",
       "      <td>...</td>\n",
       "      <td>4.0</td>\n",
       "      <td>&lt;</td>\n",
       "      <td>4.0</td>\n",
       "      <td>&lt;</td>\n",
       "      <td>4.0</td>\n",
       "      <td>&lt;</td>\n",
       "      <td>4.0</td>\n",
       "      <td>&lt;</td>\n",
       "      <td>4.0</td>\n",
       "      <td>1</td>\n",
       "    </tr>\n",
       "  </tbody>\n",
       "</table>\n",
       "<p>5 rows × 52 columns</p>\n",
       "</div>"
      ],
      "text/plain": [
       "      NAWQA_ID       DATE  TIME 4_2 FTS-RMK  4_2 FTS-VA 6_2 FTS-RMK  \\\n",
       "0  MIAMSUS1-01 2019-08-21  1200           <         8.0           <   \n",
       "1  MIAMSUS1-02 2019-07-01  1100           <         7.7           <   \n",
       "2  MIAMSUS1-03 2019-07-02  1100           <         7.7           <   \n",
       "3  MIAMSUS1-04 2019-07-09  1100           <         8.0           <   \n",
       "4  MIAMSUS1-05 2019-07-10  1100           <         8.0           <   \n",
       "\n",
       "   6_2 FTS-VA 8_2 FTS-RMK  8_2 FTS-VA N-EtFOSAA-RMK  ...  PFPeS-VA PFPeA-RMK  \\\n",
       "0         8.0           <         8.0             <  ...       4.0         n   \n",
       "1         7.7           <         7.7             <  ...       3.8         <   \n",
       "2         7.7           <         7.7             <  ...       3.8         <   \n",
       "3         8.0           <         8.0             <  ...       7.8         <   \n",
       "4         8.0           <         8.0             <  ...       4.0         <   \n",
       "\n",
       "   PFPeA-VA PFTeDA-RMK  PFTeDA-VA PFTrDA-RMK  PFTrDA-VA PFUnA-RMK  PFUnA-VA  \\\n",
       "0       1.7          <        4.0          <        4.0         <       4.0   \n",
       "1       3.8          <        3.8          <        3.8         <       3.8   \n",
       "2       3.8          <        3.8          <        3.8         <       3.8   \n",
       "3       4.0          <        4.0          <        4.0         <       4.0   \n",
       "4       4.0          <        4.0          <        4.0         <       4.0   \n",
       "\n",
       "  Cluster  \n",
       "0       1  \n",
       "1       2  \n",
       "2       2  \n",
       "3       4  \n",
       "4       1  \n",
       "\n",
       "[5 rows x 52 columns]"
      ]
     },
     "execution_count": 14,
     "metadata": {},
     "output_type": "execute_result"
    }
   ],
   "source": [
    "pfa_data.head()"
   ]
  },
  {
   "cell_type": "code",
   "execution_count": 15,
   "metadata": {},
   "outputs": [],
   "source": [
    "geo_data = pd.read_csv('./data/raw_data/PFAS_GEOSPATIAL.csv')\n",
    "inorganics_data = pd.read_csv('./data/raw_data/PFAS_INORGANICS_AND_OTHER.csv')\n",
    "pharma_data = pd.read_csv('./data/raw_data/PFAS_PHARMA.csv')\n",
    "vocs_data = pd.read_csv('./data/raw_data/PFAS_VOCs.csv')"
   ]
  },
  {
   "cell_type": "code",
   "execution_count": 16,
   "metadata": {},
   "outputs": [
    {
     "data": {
      "text/html": [
       "<div>\n",
       "<style scoped>\n",
       "    .dataframe tbody tr th:only-of-type {\n",
       "        vertical-align: middle;\n",
       "    }\n",
       "\n",
       "    .dataframe tbody tr th {\n",
       "        vertical-align: top;\n",
       "    }\n",
       "\n",
       "    .dataframe thead th {\n",
       "        text-align: right;\n",
       "    }\n",
       "</style>\n",
       "<table border=\"1\" class=\"dataframe\">\n",
       "  <thead>\n",
       "    <tr style=\"text-align: right;\">\n",
       "      <th></th>\n",
       "      <th>NAWQA_ID</th>\n",
       "      <th>DATE</th>\n",
       "      <th>TIME</th>\n",
       "      <th>4_2 FTS-RMK</th>\n",
       "      <th>4_2 FTS-VA</th>\n",
       "      <th>6_2 FTS-RMK</th>\n",
       "      <th>6_2 FTS-VA</th>\n",
       "      <th>8_2 FTS-RMK</th>\n",
       "      <th>8_2 FTS-VA</th>\n",
       "      <th>N-EtFOSAA-RMK</th>\n",
       "      <th>...</th>\n",
       "      <th>PETR</th>\n",
       "      <th>PLAS</th>\n",
       "      <th>TEXTILE</th>\n",
       "      <th>AIRNG</th>\n",
       "      <th>ARMNG</th>\n",
       "      <th>FIRE_ST</th>\n",
       "      <th>FRS</th>\n",
       "      <th>SUPER</th>\n",
       "      <th>OILREF</th>\n",
       "      <th>AIRP</th>\n",
       "    </tr>\n",
       "  </thead>\n",
       "  <tbody>\n",
       "    <tr>\n",
       "      <td>0</td>\n",
       "      <td>MIAMSUS1-01</td>\n",
       "      <td>2019-08-21</td>\n",
       "      <td>1200</td>\n",
       "      <td>&lt;</td>\n",
       "      <td>8.0</td>\n",
       "      <td>&lt;</td>\n",
       "      <td>8.0</td>\n",
       "      <td>&lt;</td>\n",
       "      <td>8.0</td>\n",
       "      <td>&lt;</td>\n",
       "      <td>...</td>\n",
       "      <td>7047</td>\n",
       "      <td>6371</td>\n",
       "      <td>30633</td>\n",
       "      <td>85255</td>\n",
       "      <td>7275</td>\n",
       "      <td>5279</td>\n",
       "      <td>368</td>\n",
       "      <td>40875</td>\n",
       "      <td>120274</td>\n",
       "      <td>9140</td>\n",
       "    </tr>\n",
       "    <tr>\n",
       "      <td>1</td>\n",
       "      <td>MIAMSUS1-02</td>\n",
       "      <td>2019-07-01</td>\n",
       "      <td>1100</td>\n",
       "      <td>&lt;</td>\n",
       "      <td>7.7</td>\n",
       "      <td>&lt;</td>\n",
       "      <td>7.7</td>\n",
       "      <td>&lt;</td>\n",
       "      <td>7.7</td>\n",
       "      <td>&lt;</td>\n",
       "      <td>...</td>\n",
       "      <td>33141</td>\n",
       "      <td>6147</td>\n",
       "      <td>40594</td>\n",
       "      <td>25090</td>\n",
       "      <td>19790</td>\n",
       "      <td>4790</td>\n",
       "      <td>2557</td>\n",
       "      <td>36219</td>\n",
       "      <td>78304</td>\n",
       "      <td>6111</td>\n",
       "    </tr>\n",
       "    <tr>\n",
       "      <td>2</td>\n",
       "      <td>MIAMSUS1-03</td>\n",
       "      <td>2019-07-02</td>\n",
       "      <td>1100</td>\n",
       "      <td>&lt;</td>\n",
       "      <td>7.7</td>\n",
       "      <td>&lt;</td>\n",
       "      <td>7.7</td>\n",
       "      <td>&lt;</td>\n",
       "      <td>7.7</td>\n",
       "      <td>&lt;</td>\n",
       "      <td>...</td>\n",
       "      <td>8612</td>\n",
       "      <td>5631</td>\n",
       "      <td>19810</td>\n",
       "      <td>7261</td>\n",
       "      <td>17133</td>\n",
       "      <td>2804</td>\n",
       "      <td>2956</td>\n",
       "      <td>19110</td>\n",
       "      <td>97923</td>\n",
       "      <td>7070</td>\n",
       "    </tr>\n",
       "    <tr>\n",
       "      <td>3</td>\n",
       "      <td>MIAMSUS1-04</td>\n",
       "      <td>2019-07-09</td>\n",
       "      <td>1100</td>\n",
       "      <td>&lt;</td>\n",
       "      <td>8.0</td>\n",
       "      <td>&lt;</td>\n",
       "      <td>8.0</td>\n",
       "      <td>&lt;</td>\n",
       "      <td>8.0</td>\n",
       "      <td>&lt;</td>\n",
       "      <td>...</td>\n",
       "      <td>29071</td>\n",
       "      <td>5070</td>\n",
       "      <td>34443</td>\n",
       "      <td>14541</td>\n",
       "      <td>3948</td>\n",
       "      <td>4029</td>\n",
       "      <td>1139</td>\n",
       "      <td>37800</td>\n",
       "      <td>95976</td>\n",
       "      <td>2885</td>\n",
       "    </tr>\n",
       "    <tr>\n",
       "      <td>4</td>\n",
       "      <td>MIAMSUS1-05</td>\n",
       "      <td>2019-07-10</td>\n",
       "      <td>1100</td>\n",
       "      <td>&lt;</td>\n",
       "      <td>8.0</td>\n",
       "      <td>&lt;</td>\n",
       "      <td>8.0</td>\n",
       "      <td>&lt;</td>\n",
       "      <td>8.0</td>\n",
       "      <td>&lt;</td>\n",
       "      <td>...</td>\n",
       "      <td>45280</td>\n",
       "      <td>20471</td>\n",
       "      <td>31283</td>\n",
       "      <td>40500</td>\n",
       "      <td>35719</td>\n",
       "      <td>7036</td>\n",
       "      <td>4451</td>\n",
       "      <td>37756</td>\n",
       "      <td>62520</td>\n",
       "      <td>10199</td>\n",
       "    </tr>\n",
       "  </tbody>\n",
       "</table>\n",
       "<p>5 rows × 84 columns</p>\n",
       "</div>"
      ],
      "text/plain": [
       "      NAWQA_ID       DATE  TIME 4_2 FTS-RMK  4_2 FTS-VA 6_2 FTS-RMK  \\\n",
       "0  MIAMSUS1-01 2019-08-21  1200           <         8.0           <   \n",
       "1  MIAMSUS1-02 2019-07-01  1100           <         7.7           <   \n",
       "2  MIAMSUS1-03 2019-07-02  1100           <         7.7           <   \n",
       "3  MIAMSUS1-04 2019-07-09  1100           <         8.0           <   \n",
       "4  MIAMSUS1-05 2019-07-10  1100           <         8.0           <   \n",
       "\n",
       "   6_2 FTS-VA 8_2 FTS-RMK  8_2 FTS-VA N-EtFOSAA-RMK  ...  PETR   PLAS    \\\n",
       "0         8.0           <         8.0             <  ...    7047   6371   \n",
       "1         7.7           <         7.7             <  ...   33141   6147   \n",
       "2         7.7           <         7.7             <  ...    8612   5631   \n",
       "3         8.0           <         8.0             <  ...   29071   5070   \n",
       "4         8.0           <         8.0             <  ...   45280  20471   \n",
       "\n",
       "   TEXTILE  AIRNG  ARMNG FIRE_ST   FRS SUPER   OILREF   AIRP  \n",
       "0    30633  85255   7275    5279   368  40875  120274   9140  \n",
       "1    40594  25090  19790    4790  2557  36219   78304   6111  \n",
       "2    19810   7261  17133    2804  2956  19110   97923   7070  \n",
       "3    34443  14541   3948    4029  1139  37800   95976   2885  \n",
       "4    31283  40500  35719    7036  4451  37756   62520  10199  \n",
       "\n",
       "[5 rows x 84 columns]"
      ]
     },
     "execution_count": 16,
     "metadata": {},
     "output_type": "execute_result"
    }
   ],
   "source": [
    "geo_env = pd.merge(pfa_data,geo_data,how='inner',on='NAWQA_ID')\n",
    "geo_env.head()"
   ]
  },
  {
   "cell_type": "code",
   "execution_count": 17,
   "metadata": {},
   "outputs": [
    {
     "data": {
      "text/html": [
       "<div>\n",
       "<style scoped>\n",
       "    .dataframe tbody tr th:only-of-type {\n",
       "        vertical-align: middle;\n",
       "    }\n",
       "\n",
       "    .dataframe tbody tr th {\n",
       "        vertical-align: top;\n",
       "    }\n",
       "\n",
       "    .dataframe thead th {\n",
       "        text-align: right;\n",
       "    }\n",
       "</style>\n",
       "<table border=\"1\" class=\"dataframe\">\n",
       "  <thead>\n",
       "    <tr style=\"text-align: right;\">\n",
       "      <th></th>\n",
       "      <th>NAWQA_ID</th>\n",
       "      <th>DATE_x</th>\n",
       "      <th>TIME_x</th>\n",
       "      <th>4_2 FTS-RMK</th>\n",
       "      <th>4_2 FTS-VA</th>\n",
       "      <th>6_2 FTS-RMK</th>\n",
       "      <th>6_2 FTS-VA</th>\n",
       "      <th>8_2 FTS-RMK</th>\n",
       "      <th>8_2 FTS-VA</th>\n",
       "      <th>N-EtFOSAA-RMK</th>\n",
       "      <th>...</th>\n",
       "      <th>5MHEX-RMK</th>\n",
       "      <th>5MHEX-VA</th>\n",
       "      <th>BUTA-RMK</th>\n",
       "      <th>BUTA-VA</th>\n",
       "      <th>IACE-RMK</th>\n",
       "      <th>IACE-VA</th>\n",
       "      <th>NPENAL-RMK</th>\n",
       "      <th>NPENAL-VA</th>\n",
       "      <th>PACE-RMK</th>\n",
       "      <th>PACE-VA</th>\n",
       "    </tr>\n",
       "  </thead>\n",
       "  <tbody>\n",
       "    <tr>\n",
       "      <td>0</td>\n",
       "      <td>MIAMSUS1-02</td>\n",
       "      <td>2019-07-01</td>\n",
       "      <td>1100</td>\n",
       "      <td>&lt;</td>\n",
       "      <td>7.7</td>\n",
       "      <td>&lt;</td>\n",
       "      <td>7.7</td>\n",
       "      <td>&lt;</td>\n",
       "      <td>7.7</td>\n",
       "      <td>&lt;</td>\n",
       "      <td>...</td>\n",
       "      <td>&lt;</td>\n",
       "      <td>0.022</td>\n",
       "      <td>&lt;</td>\n",
       "      <td>0.08</td>\n",
       "      <td>&lt;</td>\n",
       "      <td>0.01</td>\n",
       "      <td>&lt;</td>\n",
       "      <td>0.054</td>\n",
       "      <td>&lt;</td>\n",
       "      <td>0.032</td>\n",
       "    </tr>\n",
       "    <tr>\n",
       "      <td>1</td>\n",
       "      <td>MIAMSUS1-03</td>\n",
       "      <td>2019-07-02</td>\n",
       "      <td>1100</td>\n",
       "      <td>&lt;</td>\n",
       "      <td>7.7</td>\n",
       "      <td>&lt;</td>\n",
       "      <td>7.7</td>\n",
       "      <td>&lt;</td>\n",
       "      <td>7.7</td>\n",
       "      <td>&lt;</td>\n",
       "      <td>...</td>\n",
       "      <td>&lt;</td>\n",
       "      <td>0.022</td>\n",
       "      <td>&lt;</td>\n",
       "      <td>0.08</td>\n",
       "      <td>&lt;</td>\n",
       "      <td>0.01</td>\n",
       "      <td>&lt;</td>\n",
       "      <td>0.054</td>\n",
       "      <td>&lt;</td>\n",
       "      <td>0.032</td>\n",
       "    </tr>\n",
       "    <tr>\n",
       "      <td>2</td>\n",
       "      <td>MIAMSUS1-10</td>\n",
       "      <td>2019-07-23</td>\n",
       "      <td>1100</td>\n",
       "      <td>&lt;</td>\n",
       "      <td>7.1</td>\n",
       "      <td>&lt;</td>\n",
       "      <td>7.1</td>\n",
       "      <td>&lt;</td>\n",
       "      <td>7.1</td>\n",
       "      <td>&lt;</td>\n",
       "      <td>...</td>\n",
       "      <td>&lt;</td>\n",
       "      <td>0.022</td>\n",
       "      <td>&lt;</td>\n",
       "      <td>0.08</td>\n",
       "      <td>&lt;</td>\n",
       "      <td>0.01</td>\n",
       "      <td>&lt;</td>\n",
       "      <td>0.054</td>\n",
       "      <td>&lt;</td>\n",
       "      <td>0.032</td>\n",
       "    </tr>\n",
       "    <tr>\n",
       "      <td>3</td>\n",
       "      <td>MIAMSUS1-14</td>\n",
       "      <td>2019-07-30</td>\n",
       "      <td>1200</td>\n",
       "      <td>&lt;</td>\n",
       "      <td>6.9</td>\n",
       "      <td>&lt;</td>\n",
       "      <td>6.9</td>\n",
       "      <td>&lt;</td>\n",
       "      <td>6.9</td>\n",
       "      <td>&lt;</td>\n",
       "      <td>...</td>\n",
       "      <td>&lt;</td>\n",
       "      <td>0.022</td>\n",
       "      <td>&lt;</td>\n",
       "      <td>0.08</td>\n",
       "      <td>&lt;</td>\n",
       "      <td>0.01</td>\n",
       "      <td>&lt;</td>\n",
       "      <td>0.054</td>\n",
       "      <td>&lt;</td>\n",
       "      <td>0.032</td>\n",
       "    </tr>\n",
       "    <tr>\n",
       "      <td>4</td>\n",
       "      <td>MIAMSUS1-17</td>\n",
       "      <td>2019-08-05</td>\n",
       "      <td>1100</td>\n",
       "      <td>&lt;</td>\n",
       "      <td>7.7</td>\n",
       "      <td>&lt;</td>\n",
       "      <td>7.7</td>\n",
       "      <td>&lt;</td>\n",
       "      <td>7.7</td>\n",
       "      <td>&lt;</td>\n",
       "      <td>...</td>\n",
       "      <td>&lt;</td>\n",
       "      <td>0.022</td>\n",
       "      <td>&lt;</td>\n",
       "      <td>0.08</td>\n",
       "      <td>&lt;</td>\n",
       "      <td>0.01</td>\n",
       "      <td>&lt;</td>\n",
       "      <td>0.054</td>\n",
       "      <td>&lt;</td>\n",
       "      <td>0.032</td>\n",
       "    </tr>\n",
       "  </tbody>\n",
       "</table>\n",
       "<p>5 rows × 442 columns</p>\n",
       "</div>"
      ],
      "text/plain": [
       "      NAWQA_ID     DATE_x  TIME_x 4_2 FTS-RMK  4_2 FTS-VA 6_2 FTS-RMK  \\\n",
       "0  MIAMSUS1-02 2019-07-01    1100           <         7.7           <   \n",
       "1  MIAMSUS1-03 2019-07-02    1100           <         7.7           <   \n",
       "2  MIAMSUS1-10 2019-07-23    1100           <         7.1           <   \n",
       "3  MIAMSUS1-14 2019-07-30    1200           <         6.9           <   \n",
       "4  MIAMSUS1-17 2019-08-05    1100           <         7.7           <   \n",
       "\n",
       "   6_2 FTS-VA 8_2 FTS-RMK  8_2 FTS-VA N-EtFOSAA-RMK  ...  5MHEX-RMK 5MHEX-VA  \\\n",
       "0         7.7           <         7.7             <  ...          <    0.022   \n",
       "1         7.7           <         7.7             <  ...          <    0.022   \n",
       "2         7.1           <         7.1             <  ...          <    0.022   \n",
       "3         6.9           <         6.9             <  ...          <    0.022   \n",
       "4         7.7           <         7.7             <  ...          <    0.022   \n",
       "\n",
       "   BUTA-RMK BUTA-VA  IACE-RMK IACE-VA  NPENAL-RMK NPENAL-VA  PACE-RMK PACE-VA  \n",
       "0         <    0.08         <    0.01           <     0.054         <   0.032  \n",
       "1         <    0.08         <    0.01           <     0.054         <   0.032  \n",
       "2         <    0.08         <    0.01           <     0.054         <   0.032  \n",
       "3         <    0.08         <    0.01           <     0.054         <   0.032  \n",
       "4         <    0.08         <    0.01           <     0.054         <   0.032  \n",
       "\n",
       "[5 rows x 442 columns]"
      ]
     },
     "execution_count": 17,
     "metadata": {},
     "output_type": "execute_result"
    }
   ],
   "source": [
    "pharm_geo_env = pd.merge(geo_env,pharma_data,how='inner',on='NAWQA_ID')\n",
    "joined_data = pd.merge(pharm_geo_env,vocs_data,how='inner',on='NAWQA_ID')\n",
    "joined_data.head()"
   ]
  },
  {
   "cell_type": "code",
   "execution_count": 18,
   "metadata": {},
   "outputs": [
    {
     "data": {
      "text/plain": [
       "array([[-0.36398632, -0.17955728, -0.06983722, ...,  0.        ,\n",
       "         0.15195862,  0.25237723],\n",
       "       [-0.36398632, -0.17955728, -0.06983722, ...,  0.        ,\n",
       "         0.15195862,  0.25237723],\n",
       "       [-0.36398632, -1.31826864, -0.6946309 , ...,  0.        ,\n",
       "         0.15195862,  0.25237723],\n",
       "       ...,\n",
       "       [ 0.19780402, -0.74891296, -0.38223406, ...,  0.        ,\n",
       "         0.15195862,  0.25237723],\n",
       "       [-1.48756699,  0.3897984 ,  0.24255962, ...,  0.        ,\n",
       "         0.15195862,  0.25237723],\n",
       "       [-0.92577665,  0.3897984 ,  0.24255962, ...,  0.        ,\n",
       "         0.15195862,  0.25237723]])"
      ]
     },
     "execution_count": 18,
     "metadata": {},
     "output_type": "execute_result"
    }
   ],
   "source": [
    "# clean joined data\n",
    "# y: PFOS-VA for simplicity\n",
    "# x: everything not that\n",
    "\n",
    "X = joined_data.drop('PFOS-VA', axis=1)\n",
    "y = joined_data['PFOS-VA']\n",
    "\n",
    "# Select numeric columns for clustering\n",
    "numeric_columns_X = X.select_dtypes(include=['float64', 'int64']).columns\n",
    "feature_names = numeric_columns_X  \n",
    "\n",
    "# Impute missing values with median\n",
    "imputer = SimpleImputer(strategy='median')\n",
    "X_imputed = imputer.fit_transform(X[numeric_columns_X])\n",
    "\n",
    "# Scale the data\n",
    "scaler = StandardScaler()\n",
    "X_scaled = scaler.fit_transform(X_imputed)\n",
    "X_scaled"
   ]
  },
  {
   "cell_type": "code",
   "execution_count": 19,
   "metadata": {},
   "outputs": [
    {
     "data": {
      "text/plain": [
       "array([[-3.457872  , -1.62577948, -1.85647889, ...,  0.02607279,\n",
       "        -1.63406956,  0.92775694],\n",
       "       [-3.42934194, -1.83379982, -2.09645046, ...,  0.06228166,\n",
       "        -1.4756363 ,  0.97623622],\n",
       "       [-2.54818085, -1.76979078, -2.02184102, ...,  0.29206648,\n",
       "         0.33225761, -0.54111805],\n",
       "       ...,\n",
       "       [ 9.81681067,  3.02203429, -4.5316171 , ...,  1.22688559,\n",
       "        -0.04942866, -1.32735554],\n",
       "       [ 6.28340261,  1.62925157,  2.03007673, ...,  1.44354777,\n",
       "         8.12267937, -0.36664572],\n",
       "       [ 3.39643416, -1.42519028, 14.72781773, ...,  3.27201646,\n",
       "        -0.12130615, -1.60893027]])"
      ]
     },
     "execution_count": 19,
     "metadata": {},
     "output_type": "execute_result"
    }
   ],
   "source": [
    "# PCA\n",
    "pca = PCA(n_components=10)\n",
    "X_pca = pca.fit_transform(X_scaled)\n",
    "X_pca"
   ]
  },
  {
   "cell_type": "code",
   "execution_count": 20,
   "metadata": {},
   "outputs": [
    {
     "name": "stdout",
     "output_type": "stream",
     "text": [
      "R^2 on test set: -1.09\n"
     ]
    }
   ],
   "source": [
    "selector = SelectKBest(score_func=mutual_info_regression, k=10)\n",
    "X_selected = selector.fit_transform(X_scaled, y)\n",
    "\n",
    "X_train, X_test, y_train, y_test = train_test_split(X_selected, y, test_size=0.2, random_state=42)\n",
    "\n",
    "# init \n",
    "model = LinearRegression()\n",
    "model.fit(X_train, y_train)\n",
    "\n",
    "# Evaluate\n",
    "print(f\"R^2 on test set: {model.score(X_test, y_test):.2f}\")"
   ]
  },
  {
   "cell_type": "code",
   "execution_count": 21,
   "metadata": {},
   "outputs": [
    {
     "name": "stdout",
     "output_type": "stream",
     "text": [
      "Feature Importances: [2.07284186e-03 1.22567115e-04 1.07198521e-01 0.00000000e+00\n",
      " 0.00000000e+00 0.00000000e+00 1.17420603e-03 1.23073638e-03\n",
      " 8.81802916e-05 0.00000000e+00 0.00000000e+00 3.00123543e-01\n",
      " 7.62111973e-03 1.99943334e-01 1.47139898e-03 0.00000000e+00\n",
      " 2.05781627e-02 0.00000000e+00 3.49752198e-04 2.90815160e-02\n",
      " 5.51023521e-02 0.00000000e+00 0.00000000e+00 0.00000000e+00\n",
      " 2.71857562e-06 1.16826377e-04 1.14169170e-05 1.39648269e-04\n",
      " 1.97101268e-03 1.68711275e-01 1.80965550e-02 2.01969477e-03\n",
      " 1.65310726e-02 5.79091138e-04 1.74751133e-02 1.91463521e-04\n",
      " 3.27363659e-06 7.66715617e-04 8.33797239e-05 5.47803284e-05\n",
      " 9.68634430e-03 3.18033344e-05 4.83601907e-05 7.30304164e-04\n",
      " 1.09544417e-05 9.94296101e-07 1.75639449e-04 7.31148710e-03\n",
      " 2.64490791e-06 9.48991728e-05 2.34367355e-04 1.11717229e-04\n",
      " 1.39146316e-04 2.84745274e-05 5.12514729e-03 8.79255030e-03\n",
      " 1.28196425e-05 0.00000000e+00 2.13479939e-06 0.00000000e+00\n",
      " 0.00000000e+00 2.96683027e-07 0.00000000e+00 0.00000000e+00\n",
      " 0.00000000e+00 0.00000000e+00 0.00000000e+00 0.00000000e+00\n",
      " 1.69643471e-07 0.00000000e+00 0.00000000e+00 0.00000000e+00\n",
      " 5.82303060e-03 0.00000000e+00 0.00000000e+00 0.00000000e+00\n",
      " 0.00000000e+00 0.00000000e+00 0.00000000e+00 0.00000000e+00\n",
      " 0.00000000e+00 0.00000000e+00 0.00000000e+00 0.00000000e+00\n",
      " 0.00000000e+00 0.00000000e+00 0.00000000e+00 0.00000000e+00\n",
      " 0.00000000e+00 0.00000000e+00 1.12534977e-08 2.71741896e-09\n",
      " 0.00000000e+00 2.31283579e-07 0.00000000e+00 1.19317588e-06\n",
      " 0.00000000e+00 0.00000000e+00 0.00000000e+00 0.00000000e+00\n",
      " 0.00000000e+00 0.00000000e+00 7.22725924e-09 1.50872631e-06\n",
      " 0.00000000e+00 0.00000000e+00 0.00000000e+00 0.00000000e+00\n",
      " 0.00000000e+00 7.38892844e-03 1.10456298e-04 0.00000000e+00\n",
      " 0.00000000e+00 0.00000000e+00 0.00000000e+00 0.00000000e+00\n",
      " 0.00000000e+00 0.00000000e+00 0.00000000e+00 0.00000000e+00\n",
      " 0.00000000e+00 0.00000000e+00 0.00000000e+00 0.00000000e+00\n",
      " 1.55429154e-06 0.00000000e+00 0.00000000e+00 0.00000000e+00\n",
      " 0.00000000e+00 0.00000000e+00 0.00000000e+00 0.00000000e+00\n",
      " 0.00000000e+00 0.00000000e+00 0.00000000e+00 1.43945726e-07\n",
      " 0.00000000e+00 0.00000000e+00 0.00000000e+00 0.00000000e+00\n",
      " 0.00000000e+00 0.00000000e+00 0.00000000e+00 0.00000000e+00\n",
      " 0.00000000e+00 0.00000000e+00 0.00000000e+00 0.00000000e+00\n",
      " 0.00000000e+00 0.00000000e+00 0.00000000e+00 0.00000000e+00\n",
      " 0.00000000e+00 0.00000000e+00 0.00000000e+00 0.00000000e+00\n",
      " 0.00000000e+00 0.00000000e+00 0.00000000e+00 0.00000000e+00\n",
      " 0.00000000e+00 7.21339291e-07 0.00000000e+00 0.00000000e+00\n",
      " 0.00000000e+00 0.00000000e+00 0.00000000e+00 0.00000000e+00\n",
      " 0.00000000e+00 0.00000000e+00 1.42776436e-04 0.00000000e+00\n",
      " 0.00000000e+00 0.00000000e+00 0.00000000e+00 0.00000000e+00\n",
      " 0.00000000e+00 0.00000000e+00 0.00000000e+00 5.05739517e-05\n",
      " 0.00000000e+00 0.00000000e+00 0.00000000e+00 0.00000000e+00\n",
      " 0.00000000e+00 0.00000000e+00 0.00000000e+00 0.00000000e+00\n",
      " 0.00000000e+00 5.75884904e-08 0.00000000e+00 0.00000000e+00\n",
      " 0.00000000e+00 0.00000000e+00 4.04240161e-08 2.90972753e-06\n",
      " 0.00000000e+00 0.00000000e+00 0.00000000e+00 0.00000000e+00\n",
      " 0.00000000e+00 0.00000000e+00 0.00000000e+00 3.13995668e-04\n",
      " 6.35686854e-04 0.00000000e+00 0.00000000e+00 0.00000000e+00\n",
      " 0.00000000e+00 5.95910095e-08 7.35970098e-05 0.00000000e+00\n",
      " 0.00000000e+00 0.00000000e+00 0.00000000e+00 0.00000000e+00\n",
      " 0.00000000e+00 0.00000000e+00 0.00000000e+00 0.00000000e+00\n",
      " 0.00000000e+00 0.00000000e+00 0.00000000e+00 0.00000000e+00\n",
      " 0.00000000e+00 0.00000000e+00 0.00000000e+00 0.00000000e+00\n",
      " 0.00000000e+00 0.00000000e+00 0.00000000e+00 0.00000000e+00\n",
      " 0.00000000e+00 0.00000000e+00 0.00000000e+00]\n"
     ]
    }
   ],
   "source": [
    "xgb_model = xgb.XGBRegressor()\n",
    "X_train, X_test, y_train, y_test = train_test_split(X_imputed, y, test_size=0.2, random_state=42)\n",
    "xgb_model.fit(X_train, y_train)\n",
    "feature_importances = xgb_model.feature_importances_\n",
    "print(\"Feature Importances:\", feature_importances)"
   ]
  },
  {
   "cell_type": "code",
   "execution_count": 22,
   "metadata": {},
   "outputs": [
    {
     "data": {
      "image/png": "[encoded data removed]",
      "text/plain": [
       "<Figure size 432x288 with 1 Axes>"
      ]
     },
     "metadata": {
      "needs_background": "light"
     },
     "output_type": "display_data"
    }
   ],
   "source": [
    "plot_importance(xgb_model, importance_type='gain', max_num_features=20)\n",
    "plt.show()"
   ]
  },
  {
   "cell_type": "code",
   "execution_count": 23,
   "metadata": {},
   "outputs": [
    {
     "name": "stdout",
     "output_type": "stream",
     "text": [
      "       Feature  Importance\n",
      "0     PFHpS-VA    0.300124\n",
      "1     PFHxS-VA    0.199943\n",
      "2   FIRE_TRAIN    0.168711\n",
      "3   6_2 FTS-VA    0.107199\n",
      "4     PFPeA-VA    0.055102\n",
      "5     PFPeS-VA    0.029082\n",
      "6      PFNA-VA    0.020578\n",
      "7         CEMT    0.018097\n",
      "8        ELEC     0.017475\n",
      "9      CLEAN      0.016531\n",
      "10      MACH      0.009686\n",
      "11        AIRP    0.008793\n",
      "12    PFHpA-VA    0.007621\n",
      "13     MEPR-VA    0.007389\n",
      "14      PLAS      0.007311\n",
      "15     CARB-VA    0.005823\n",
      "16      OILREF    0.005125\n",
      "17      TIME_x    0.002073\n",
      "18       CHEM     0.002020\n",
      "19        WSWT    0.001971\n"
     ]
    }
   ],
   "source": [
    "feature_importance_df = pd.DataFrame({\n",
    "    'Feature': feature_names,\n",
    "    'Importance': feature_importances\n",
    "}).sort_values(by='Importance', ascending=False).reset_index(drop=True)\n",
    "\n",
    "print(feature_importance_df.head(20))"
   ]
  },
  {
   "cell_type": "code",
   "execution_count": 24,
   "metadata": {},
   "outputs": [],
   "source": [
    "threshold = 0.01  # Adjust based on your data\n",
    "selected_features = feature_importance_df[feature_importance_df['Importance'] > threshold]['Feature']\n",
    "X_selected = X[selected_features]"
   ]
  },
  {
   "cell_type": "code",
   "execution_count": 25,
   "metadata": {},
   "outputs": [
    {
     "data": {
      "image/png": "[encoded data removed]",
      "text/plain": [
       "<Figure size 432x288 with 2 Axes>"
      ]
     },
     "metadata": {
      "needs_background": "light"
     },
     "output_type": "display_data"
    }
   ],
   "source": [
    "correlation_matrix = X[selected_features].corr()\n",
    "sns.heatmap(correlation_matrix, annot=True, fmt=\".2f\", cmap=\"coolwarm\")\n",
    "plt.show()"
   ]
  },
  {
   "cell_type": "code",
   "execution_count": 26,
   "metadata": {},
   "outputs": [
    {
     "data": {
      "text/html": [
       "<div>\n",
       "<style scoped>\n",
       "    .dataframe tbody tr th:only-of-type {\n",
       "        vertical-align: middle;\n",
       "    }\n",
       "\n",
       "    .dataframe tbody tr th {\n",
       "        vertical-align: top;\n",
       "    }\n",
       "\n",
       "    .dataframe thead th {\n",
       "        text-align: right;\n",
       "    }\n",
       "</style>\n",
       "<table border=\"1\" class=\"dataframe\">\n",
       "  <thead>\n",
       "    <tr style=\"text-align: right;\">\n",
       "      <th></th>\n",
       "      <th>Feature</th>\n",
       "      <th>Importance</th>\n",
       "    </tr>\n",
       "  </thead>\n",
       "  <tbody>\n",
       "    <tr>\n",
       "      <td>0</td>\n",
       "      <td>PFHpS-VA</td>\n",
       "      <td>0.300124</td>\n",
       "    </tr>\n",
       "    <tr>\n",
       "      <td>1</td>\n",
       "      <td>PFHxS-VA</td>\n",
       "      <td>0.199943</td>\n",
       "    </tr>\n",
       "    <tr>\n",
       "      <td>2</td>\n",
       "      <td>FIRE_TRAIN</td>\n",
       "      <td>0.168711</td>\n",
       "    </tr>\n",
       "    <tr>\n",
       "      <td>3</td>\n",
       "      <td>6_2 FTS-VA</td>\n",
       "      <td>0.107199</td>\n",
       "    </tr>\n",
       "    <tr>\n",
       "      <td>4</td>\n",
       "      <td>PFPeA-VA</td>\n",
       "      <td>0.055102</td>\n",
       "    </tr>\n",
       "    <tr>\n",
       "      <td>5</td>\n",
       "      <td>PFPeS-VA</td>\n",
       "      <td>0.029082</td>\n",
       "    </tr>\n",
       "    <tr>\n",
       "      <td>6</td>\n",
       "      <td>PFNA-VA</td>\n",
       "      <td>0.020578</td>\n",
       "    </tr>\n",
       "    <tr>\n",
       "      <td>7</td>\n",
       "      <td>CEMT</td>\n",
       "      <td>0.018097</td>\n",
       "    </tr>\n",
       "    <tr>\n",
       "      <td>8</td>\n",
       "      <td>ELEC</td>\n",
       "      <td>0.017475</td>\n",
       "    </tr>\n",
       "    <tr>\n",
       "      <td>9</td>\n",
       "      <td>CLEAN</td>\n",
       "      <td>0.016531</td>\n",
       "    </tr>\n",
       "  </tbody>\n",
       "</table>\n",
       "</div>"
      ],
      "text/plain": [
       "      Feature  Importance\n",
       "0    PFHpS-VA    0.300124\n",
       "1    PFHxS-VA    0.199943\n",
       "2  FIRE_TRAIN    0.168711\n",
       "3  6_2 FTS-VA    0.107199\n",
       "4    PFPeA-VA    0.055102\n",
       "5    PFPeS-VA    0.029082\n",
       "6     PFNA-VA    0.020578\n",
       "7        CEMT    0.018097\n",
       "8       ELEC     0.017475\n",
       "9     CLEAN      0.016531"
      ]
     },
     "execution_count": 26,
     "metadata": {},
     "output_type": "execute_result"
    }
   ],
   "source": [
    "# ELEC and CLEAN or PFHxS-VA and PFPeA-VA ; drop one from each pair with lower feature importance\n",
    "feature_importance_df.head(10) # drop CLEAN, PFPeA-VA"
   ]
  },
  {
   "cell_type": "code",
   "execution_count": 27,
   "metadata": {},
   "outputs": [
    {
     "name": "stdout",
     "output_type": "stream",
     "text": [
      "Shape of X_limited: (167, 4)\n",
      "Selected features: ['PFHpS-VA', 'PFHxS-VA', 'FIRE_TRAIN', '6_2 FTS-VA']\n"
     ]
    }
   ],
   "source": [
    "# Select top 10 and drop two correlated ones --> changed to top 5 after seeing it improves results\n",
    "selected_features = feature_importance_df.head(5)['Feature'].values\n",
    "selected_features = [feature for feature in selected_features if feature not in ['CLEAN', 'PFPeA-VA']]\n",
    "X_selected_df = X[numeric_columns_X].loc[:, selected_features]\n",
    "\n",
    "X_limited = X_selected_df.values\n",
    "\n",
    "print(\"Shape of X_limited:\", X_limited.shape)\n",
    "print(\"Selected features:\", selected_features)\n"
   ]
  },
  {
   "cell_type": "markdown",
   "metadata": {},
   "source": [
    "Based on the above analyses, we will use 8 features for the regression (dropping CLEAN and PFPeA-VA due to possible multicollinearity)"
   ]
  },
  {
   "cell_type": "code",
   "execution_count": 28,
   "metadata": {},
   "outputs": [
    {
     "data": {
      "text/plain": [
       "0.23745923067801555"
      ]
     },
     "execution_count": 28,
     "metadata": {},
     "output_type": "execute_result"
    }
   ],
   "source": [
    "xgb_model = xgb.XGBRegressor()\n",
    "X_train, X_test, y_train, y_test = train_test_split(X_limited, y, test_size=0.2, random_state=42)\n",
    "xgb_model.fit(X_train, y_train)\n",
    "# output results\n",
    "xgb_model.score(X_test,y_test)\n",
    "# poor results... try boosted tree? Or tweak setup first?"
   ]
  },
  {
   "cell_type": "code",
   "execution_count": 29,
   "metadata": {},
   "outputs": [
    {
     "name": "stdout",
     "output_type": "stream",
     "text": [
      "Fitting 3 folds for each of 216 candidates, totalling 648 fits\n",
      "Best Parameters: {'colsample_bytree': 0.8, 'gamma': 5, 'learning_rate': 0.2, 'max_depth': 5, 'n_estimators': 300, 'subsample': 1.0}\n",
      "Best Score (RMSE): 9.574100743073254\n"
     ]
    }
   ],
   "source": [
    "# boosted trees with grid search\n",
    "# GRID SEARCH for hyperparameter tuning\n",
    "xgb_reg = xgb.XGBRegressor(objective=\"reg:squarederror\", eval_metric=\"rmse\", use_label_encoder=False)\n",
    "\n",
    "# Define the parameter grid\n",
    "param_grid = {\n",
    "    'max_depth': [3, 5], # 7\n",
    "    'learning_rate': [0.01, 0.1, 0.2],\n",
    "    'n_estimators': [100, 200, 300],\n",
    "    'gamma': [0, 1, 5],\n",
    "    'subsample': [0.8, 1.0],\n",
    "    'colsample_bytree': [0.8, 1.0]\n",
    "}\n",
    "\n",
    "grid_search = GridSearchCV(\n",
    "    estimator=xgb_reg,\n",
    "    param_grid=param_grid,\n",
    "    scoring='neg_root_mean_squared_error',\n",
    "    cv=3,  # 3-fold cross-validation, limited due to memory constraints\n",
    "    verbose=2,\n",
    "    n_jobs=-1  \n",
    ")\n",
    "\n",
    "grid_search.fit(X_train, y_train)\n",
    "\n",
    "# best parameters and score\n",
    "print(\"Best Parameters:\", grid_search.best_params_)\n",
    "print(\"Best Score (RMSE):\", -grid_search.best_score_)"
   ]
  },
  {
   "cell_type": "code",
   "execution_count": 30,
   "metadata": {},
   "outputs": [
    {
     "name": "stdout",
     "output_type": "stream",
     "text": [
      "Test RMSE: 13.329247195606074\n",
      "R² score: 0.43626648063411455\n"
     ]
    }
   ],
   "source": [
    "best_model = grid_search.best_estimator_\n",
    "y_pred = grid_search.best_estimator_.predict(X_test)\n",
    "test_predictions = best_model.predict(X_test)\n",
    "test_rmse = np.sqrt(mean_squared_error(y_test, test_predictions))\n",
    "print(\"Test RMSE:\", test_rmse)\n",
    "\n",
    "r2 = r2_score(y_test, y_pred)\n",
    "print(\"R² score:\", r2)\n"
   ]
  },
  {
   "cell_type": "code",
   "execution_count": 31,
   "metadata": {},
   "outputs": [
    {
     "data": {
      "image/png": "[encoded data removed]",
      "text/plain": [
       "<Figure size 432x288 with 1 Axes>"
      ]
     },
     "metadata": {
      "needs_background": "light"
     },
     "output_type": "display_data"
    }
   ],
   "source": [
    "# feature importance\n",
    "xgb.plot_importance(best_model)\n",
    "plt.show()"
   ]
  },
  {
   "cell_type": "code",
   "execution_count": 32,
   "metadata": {},
   "outputs": [
    {
     "data": {
      "image/png": "[encoded data removed]",
      "text/plain": [
       "<Figure size 432x288 with 1 Axes>"
      ]
     },
     "metadata": {
      "needs_background": "light"
     },
     "output_type": "display_data"
    }
   ],
   "source": [
    "plt.scatter(y_test, y_pred, label=\"Predicted vs Actual\", alpha=0.7)\n",
    "plt.plot([y_test.min(), y_test.max()], [y_test.min(), y_test.max()], 'r--', label=\"Perfect Fit Line\")\n",
    "plt.xlabel(\"Actual\")\n",
    "plt.ylabel(\"Predicted\")\n",
    "plt.title(\"Predicted vs Actual\")\n",
    "plt.legend()\n",
    "plt.show()"
   ]
  },
  {
   "cell_type": "code",
   "execution_count": 33,
   "metadata": {},
   "outputs": [
    {
     "data": {
      "image/png": "[encoded data removed]",
      "text/plain": [
       "<Figure size 432x288 with 1 Axes>"
      ]
     },
     "metadata": {
      "needs_background": "light"
     },
     "output_type": "display_data"
    }
   ],
   "source": [
    "train_sizes, train_scores, val_scores = learning_curve(\n",
    "    grid_search.best_estimator_, X_train, y_train,\n",
    "    scoring=\"neg_mean_squared_error\", cv=3, n_jobs=-1\n",
    ")\n",
    "\n",
    "train_rmse = (-train_scores.mean(axis=1))**0.5\n",
    "val_rmse = (-val_scores.mean(axis=1))**0.5\n",
    "\n",
    "plt.plot(train_sizes, train_rmse, label='Training RMSE')\n",
    "plt.plot(train_sizes, val_rmse, label='Validation RMSE')\n",
    "plt.xlabel(\"Training Set Size\")\n",
    "plt.ylabel(\"RMSE\")\n",
    "plt.legend()\n",
    "plt.title(\"Learning Curve\")\n",
    "plt.show()"
   ]
  },
  {
   "cell_type": "markdown",
   "metadata": {},
   "source": [
    "Overfitting is possible since the training RMSE is good but the validation metric is not.\n",
    "- apply L1 or L2 regularization\n",
    "- reduce max depth? Or just keep what grid search said"
   ]
  },
  {
   "cell_type": "code",
   "execution_count": 34,
   "metadata": {},
   "outputs": [
    {
     "name": "stdout",
     "output_type": "stream",
     "text": [
      "Baseline RMSE: 17.77203759249393\n"
     ]
    }
   ],
   "source": [
    "# compare to mean baseline\n",
    "baseline_model = DummyRegressor(strategy=\"mean\")\n",
    "baseline_model.fit(X_train, y_train)\n",
    "baseline_rmse = mean_squared_error(y_test, baseline_model.predict(X_test), squared=False)\n",
    "print(\"Baseline RMSE:\", baseline_rmse)\n"
   ]
  },
  {
   "cell_type": "code",
   "execution_count": 35,
   "metadata": {},
   "outputs": [
    {
     "name": "stdout",
     "output_type": "stream",
     "text": [
      "Fitting 3 folds for each of 216 candidates, totalling 648 fits\n",
      "Best Parameters: {'colsample_bytree': 0.8, 'gamma': 5, 'learning_rate': 0.2, 'max_depth': 5, 'n_estimators': 100, 'subsample': 1.0}\n",
      "Best Score (RMSE): 9.617661402857077\n",
      "Test RMSE: 12.396436460478764\n"
     ]
    },
    {
     "data": {
      "image/png": "[encoded data removed]",
      "text/plain": [
       "<Figure size 432x288 with 1 Axes>"
      ]
     },
     "metadata": {
      "needs_background": "light"
     },
     "output_type": "display_data"
    },
    {
     "data": {
      "image/png": "[encoded data removed]",
      "text/plain": [
       "<Figure size 432x288 with 1 Axes>"
      ]
     },
     "metadata": {
      "needs_background": "light"
     },
     "output_type": "display_data"
    }
   ],
   "source": [
    "# boosted trees with grid search\n",
    "# GRID SEARCH for hyperparameter tuning\n",
    "\n",
    "# add \n",
    "xgb_reg = xgb.XGBRegressor(objective=\"reg:squarederror\", eval_metric=\"rmse\", use_label_encoder=False, reg_alpha = 1.0)\n",
    "\n",
    "# Define the parameter grid\n",
    "param_grid = {\n",
    "    'max_depth': [3, 5], # 7\n",
    "    'learning_rate': [0.01, 0.1, 0.2],\n",
    "    'n_estimators': [100, 200, 300],\n",
    "    'gamma': [0, 1, 5],\n",
    "    'subsample': [0.8, 1.0],\n",
    "    'colsample_bytree': [0.8, 1.0]\n",
    "}\n",
    "\n",
    "grid_search = GridSearchCV(\n",
    "    estimator=xgb_reg,\n",
    "    param_grid=param_grid,\n",
    "    scoring='neg_root_mean_squared_error',\n",
    "    cv=3,  # 3-fold cross-validation, limited due to memory constraints\n",
    "    verbose=2,\n",
    "    n_jobs=-1  \n",
    ")\n",
    "\n",
    "grid_search.fit(X_train, y_train)\n",
    "\n",
    "# best parameters and score\n",
    "print(\"Best Parameters:\", grid_search.best_params_)\n",
    "print(\"Best Score (RMSE):\", -grid_search.best_score_)\n",
    "\n",
    "best_model = grid_search.best_estimator_\n",
    "y_pred = grid_search.best_estimator_.predict(X_test)\n",
    "test_predictions = best_model.predict(X_test)\n",
    "test_rmse = np.sqrt(mean_squared_error(y_test, test_predictions))\n",
    "print(\"Test RMSE:\", test_rmse)\n",
    "\n",
    "train_sizes, train_scores, val_scores = learning_curve(\n",
    "    grid_search.best_estimator_, X_train, y_train,\n",
    "    scoring=\"neg_mean_squared_error\", cv=3, n_jobs=-1\n",
    ")\n",
    "\n",
    "train_rmse = (-train_scores.mean(axis=1))**0.5\n",
    "val_rmse = (-val_scores.mean(axis=1))**0.5\n",
    "\n",
    "plt.plot(train_sizes, train_rmse, label='Training RMSE')\n",
    "plt.plot(train_sizes, val_rmse, label='Validation RMSE')\n",
    "plt.xlabel(\"Training Set Size\")\n",
    "plt.ylabel(\"RMSE\")\n",
    "plt.legend()\n",
    "plt.title(\"Learning Curve\")\n",
    "plt.show()\n",
    "\n",
    "plt.scatter(y_test, y_pred, label=\"Predicted vs Actual\", alpha=0.7)\n",
    "plt.plot([y_test.min(), y_test.max()], [y_test.min(), y_test.max()], 'r--', label=\"Perfect Fit Line\")\n",
    "plt.xlabel(\"Actual\")\n",
    "plt.ylabel(\"Predicted\")\n",
    "plt.title(\"Predicted vs Actual\")\n",
    "plt.legend()\n",
    "plt.show()"
   ]
  },
  {
   "cell_type": "markdown",
   "metadata": {},
   "source": [
    "We see that we out-perform a mean baseline."
   ]
  },
  {
   "cell_type": "markdown",
   "metadata": {},
   "source": [
    "- L1 provides slight improvement over L2 or absence of both\n",
    "- Performs well at predicting low concentrations but tapers off as actual concentrations grow, indicating that it may underestimate severity of amounts"
   ]
  },
  {
   "cell_type": "code",
   "execution_count": 36,
   "metadata": {},
   "outputs": [
    {
     "name": "stdout",
     "output_type": "stream",
     "text": [
      "R² score: 0.5124082692723984\n"
     ]
    }
   ],
   "source": [
    "r2 = r2_score(y_test, y_pred)\n",
    "print(\"R² score:\", r2)\n"
   ]
  }
 ],
 "metadata": {
  "kernelspec": {
   "display_name": "Python (en685648)",
   "language": "python",
   "name": "en685648"
  },
  "language_info": {
   "codemirror_mode": {
    "name": "ipython",
    "version": 3
   },
   "file_extension": ".py",
   "mimetype": "text/x-python",
   "name": "python",
   "nbconvert_exporter": "python",
   "pygments_lexer": "ipython3",
   "version": "3.7.4"
  }
 },
 "nbformat": 4,
 "nbformat_minor": 2
}
